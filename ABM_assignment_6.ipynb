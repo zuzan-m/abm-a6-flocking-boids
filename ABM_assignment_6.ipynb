{
 "cells": [
  {
   "cell_type": "markdown",
   "metadata": {},
   "source": [
    "# Assignment 6"
   ]
  },
  {
   "cell_type": "markdown",
   "metadata": {},
   "source": [
    "*ZM MW*"
   ]
  },
  {
   "cell_type": "markdown",
   "metadata": {},
   "source": [
    "Reynold’s  boids  flocking  model  "
   ]
  },
  {
   "cell_type": "code",
   "execution_count": 1,
   "metadata": {
    "collapsed": true
   },
   "outputs": [],
   "source": [
    "import numpy as np\n",
    "import matplotlib.pyplot as plt\n",
    "from matplotlib.colors import ListedColormap\n",
    "import random\n",
    "import math\n",
    "import imageio\n",
    "import os\n",
    "import shutil\n",
    "import glob"
   ]
  },
  {
   "cell_type": "code",
   "execution_count": 10,
   "metadata": {
    "collapsed": true
   },
   "outputs": [],
   "source": [
    "def normalize(vector, length):\n",
    "    n = np.sqrt(vector[0] ** 2 + vector[1] ** 2) / length\n",
    "    return vector[0] / n, vector[1] / n\n",
    "\n",
    "def neighborhood(boid, flock):\n",
    "    view_range = boid.view_range\n",
    "    radius = boid.radius\n",
    "    neighbors = []\n",
    "    direction = normalize([boid.vx, boid.vy], 1)\n",
    "    my_angle = math.atan2(direction[1], direction[0])\n",
    "    start_angle = (my_angle - view_range / 2)   # actual view range\n",
    "    end_angle = (my_angle + view_range / 2)\n",
    "    for neighbor in flock:\n",
    "        if neighbor != boid:\n",
    "            angle = (math.atan2(neighbor.y - boid.y, neighbor.x - boid.x))  # angle between my direction and neighbor\n",
    "            polar_radius = math.sqrt((neighbor.x - boid.x) ** 2 + (neighbor.y - boid.y) ** 2)\n",
    "            if start_angle < angle < end_angle and polar_radius < radius:\n",
    "                neighbors.append(neighbor)  # if boid is in my view and is close enough, i treat it like my neighbor\n",
    "    return neighbors\n",
    "\n",
    "def separation(boid, neighbors, separation_strength = 0.9):\n",
    "    safety_zone = boid.safety_zone\n",
    "    resultant_x = 0\n",
    "    resultant_y = 0\n",
    "    counter = 0\n",
    "    for neighbor in neighbors:\n",
    "        difference_x = neighbor.x - boid.x   # (q_i_x) checking distance to my neighbor \n",
    "        difference_y = neighbor.y - boid.y\n",
    "        distance = math.sqrt(difference_x ** 2 + difference_y ** 2)\n",
    "        if distance < safety_zone:   # if neighbor is in my safety zone\n",
    "            counter += 1\n",
    "            resultant_x -= difference_x / distance   # dividing by norm, creating a vector of separation\n",
    "            resultant_y -= difference_y / distance\n",
    "    if counter != 0:\n",
    "        resultant_x /= counter   # divided by number of neighbors in boid's safety zone \n",
    "        resultant_y /= counter\n",
    "    vs_x = separation_strength * resultant_x   # scaling using separation coefficient\n",
    "    vs_y = separation_strength * resultant_y\n",
    "    return vs_x, vs_y\n",
    "\n",
    "def cohesion(boid, neighbors, cohesion_strength = 0.9):\n",
    "    resultant_x = 0\n",
    "    resultant_y = 0\n",
    "    counter = 0\n",
    "    for neighbor in neighbors:\n",
    "        counter += 1\n",
    "        resultant_x += neighbor.x   # taking sum of neighbors positions\n",
    "        resultant_y += neighbor.y\n",
    "    if counter != 0:\n",
    "        resultant_x /= counter    # dividing by number of neighbors\n",
    "        resultant_y /= counter\n",
    "        vc_x = cohesion_strength * (resultant_x - boid.x)   # facing to the center and scaling using cohesion coefficient\n",
    "        vc_y = cohesion_strength * (resultant_y - boid.y)\n",
    "    else:\n",
    "        vc_x, vc_y = 0, 0\n",
    "    return vc_x, vc_y\n",
    "\n",
    "def alignment(neighbors, alignment_strength = 0.9):\n",
    "    resultant_vx = 0\n",
    "    resultant_vy = 0\n",
    "    counter = 0\n",
    "    for neighbor in neighbors:\n",
    "        counter += 1\n",
    "        resultant_vx += neighbor.vx   # taking sum of neighbors velocities directions\n",
    "        resultant_vy += neighbor.vy\n",
    "    if counter != 0:\n",
    "        resultant_vx /= counter   # dividing by number of neighbors\n",
    "        resultant_vy /= counter\n",
    "    va_x = alignment_strength * resultant_vx   # scaling using alignment coefficient\n",
    "    va_y = alignment_strength * resultant_vy\n",
    "    return va_x, va_y "
   ]
  },
  {
   "cell_type": "code",
   "execution_count": 11,
   "metadata": {
    "collapsed": true
   },
   "outputs": [],
   "source": [
    "class Boid:\n",
    "    def __init__(self, view_range = math.pi, radius = 20, safety_zone = 2, v_max = 1, grid_x = 200, grid_y = 200):\n",
    "        self.grid_x = grid_x \n",
    "        self.grid_y = grid_y\n",
    "        self.x = random.uniform(0, self.grid_x)\n",
    "        self.y = random.uniform(0, self.grid_y)\n",
    "        self.vx = random.uniform(-1, 1)\n",
    "        self.vy = random.uniform(-1, 1)\n",
    "        self.radius = radius\n",
    "        self.view_range = view_range\n",
    "        self.safety_zone = safety_zone\n",
    "        self.v_max = v_max"
   ]
  },
  {
   "cell_type": "code",
   "execution_count": 12,
   "metadata": {
    "collapsed": true
   },
   "outputs": [],
   "source": [
    "def visualization(steps=10, num_of_boids=50, view_range=math.pi, radius=20, safety_zone=10, v_max=1, grid_x=200, grid_y=200, \n",
    "                  alignment_strength = 0.9, cohesion_strength = 0.9, separation_strength = 0.9):\n",
    "    plt.figure(figsize=(15,15))\n",
    "    flock = []\n",
    "    folder_path = \"Boids_flocking_model\"\n",
    "\n",
    "    if os.path.exists(folder_path):\n",
    "        shutil.rmtree(folder_path)\n",
    "    os.makedirs(folder_path)\n",
    "\n",
    "    frames_path = folder_path + \"/{i}.png\"\n",
    "\n",
    "    for i in range(num_of_boids):\n",
    "        flock.append(Boid(view_range, radius, safety_zone, v_max, grid_x, grid_y))\n",
    "   \n",
    "    for k in range(steps):\n",
    "        plt.clf()\n",
    "        for boid in flock:\n",
    "            neighbors = neighborhood(boid, flock)\n",
    "            ali = alignment(neighbors, alignment_strength)\n",
    "            coh = cohesion(boid, neighbors, cohesion_strength)\n",
    "            sep = separation(boid, neighbors, separation_strength)\n",
    "            new_vx = boid.vx + coh[0] + ali[0] + sep[0]           # update velocity\n",
    "            new_vy = boid.vy + coh[1] + ali[1] + sep[1]\n",
    "            if np.sqrt(new_vx ** 2 + new_vy ** 2) > boid.v_max:\n",
    "                new_v = normalize([new_vx, new_vy], boid.v_max)   # (and normalize if necessary)\n",
    "                boid.vx = new_v[0]\n",
    "                boid.vy = new_v[1]\n",
    "            else:\n",
    "                boid.vx = new_vx\n",
    "                boid.vy = new_vy\n",
    "\n",
    "            new_x = boid.x + boid.vx             # update position\n",
    "            new_y = boid.y + boid.vy\n",
    "            if new_x < 0:                        # periodic boundary condition\n",
    "                new_x = boid.grid_x + new_x\n",
    "            if new_x > boid.grid_x:\n",
    "                new_x = new_x - boid.grid_x\n",
    "            if new_y < 0:\n",
    "                new_y = boid.grid_y + new_y\n",
    "            if new_y > boid.grid_y:\n",
    "                new_y = new_y - boid.grid_y\n",
    "            boid.x = new_x\n",
    "            boid.y = new_y\n",
    "\n",
    "            direction = normalize([boid.vx, boid.vy], 1)\n",
    "            plt.quiver(boid.x, boid.y, direction[0], direction[1],angles='xy', scale=80, norm=True, color='DeepPink')\n",
    "            plt.xlim(0, boid.grid_x)\n",
    "            plt.ylim(0, boid.grid_y)\n",
    "            plt.title('Boids flocking model simulation\\nview range={a}, radius={b}, safety zone={c}, separation={d}, cohesion={e}, alignment={f}'.format(a=round(view_range,2), b=radius, c=safety_zone, d=separation_strength, e=cohesion_strength, f=alignment_strength),         \n",
    "                      fontsize=15)\n",
    "        plt.savefig(frames_path.format(i=k))\n",
    "        #plt.show()\n",
    "        \n",
    "    animation_path = 'boids_flocking_simulation_view_range={a}_radius={b}_safety_zone={c}_separation={d}_cohesion={e}_alignment={f}.gif'.format(a=round(view_range,2), b=radius, c=safety_zone, d=separation_strength, e=cohesion_strength, f=alignment_strength)\n",
    "    with imageio.get_writer(animation_path, mode='I') as writer:\n",
    "        for i in range(steps):\n",
    "            writer.append_data(imageio.imread(frames_path.format(i=i)))\n",
    "        \n"
   ]
  },
  {
   "cell_type": "code",
   "execution_count": 17,
   "metadata": {
    "collapsed": true
   },
   "outputs": [],
   "source": [
    "visualization(100, 300, view_range=math.pi, radius=5, safety_zone=4, \n",
    "              separation_strength=0.8, cohesion_strength = 0.3, alignment_strength = 0.2,\n",
    "             grid_x=50, grid_y=50)"
   ]
  },
  {
   "cell_type": "code",
   "execution_count": null,
   "metadata": {
    "collapsed": true
   },
   "outputs": [],
   "source": []
  }
 ],
 "metadata": {
  "kernelspec": {
   "display_name": "Python 3",
   "language": "python",
   "name": "python3"
  },
  "language_info": {
   "codemirror_mode": {
    "name": "ipython",
    "version": 3
   },
   "file_extension": ".py",
   "mimetype": "text/x-python",
   "name": "python",
   "nbconvert_exporter": "python",
   "pygments_lexer": "ipython3",
   "version": "3.6.3"
  }
 },
 "nbformat": 4,
 "nbformat_minor": 2
}
